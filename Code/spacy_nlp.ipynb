{
  "nbformat": 4,
  "nbformat_minor": 0,
  "metadata": {
    "colab": {
      "provenance": [],
      "authorship_tag": "ABX9TyN2Mx5su+Ll2TB/XJXFiiYT",
      "include_colab_link": true
    },
    "kernelspec": {
      "name": "python3",
      "display_name": "Python 3"
    },
    "language_info": {
      "name": "python"
    }
  },
  "cells": [
    {
      "cell_type": "markdown",
      "metadata": {
        "id": "view-in-github",
        "colab_type": "text"
      },
      "source": [
        "<a href=\"https://colab.research.google.com/github/DeJezuz/ai_tools_assignment-/blob/main/spacy_nlp.ipynb\" target=\"_parent\"><img src=\"https://colab.research.google.com/assets/colab-badge.svg\" alt=\"Open In Colab\"/></a>"
      ]
    },
    {
      "cell_type": "code",
      "execution_count": null,
      "metadata": {
        "colab": {
          "base_uri": "https://localhost:8080/"
        },
        "id": "qCjTs2zPwTnh",
        "outputId": "04d78ad2-420e-42ad-af3b-b18dac27bf1f"
      },
      "outputs": [
        {
          "output_type": "stream",
          "name": "stdout",
          "text": [
            "Review: I love my new Apple iPhone, the camera is amazing!\n",
            "Entities: [('Apple', 'ORG')]\n",
            "Sentiment: Positive\n",
            "----------------------------------------\n",
            "Review: The Samsung TV stopped working after a week. Terrible quality.\n",
            "Entities: [('Samsung TV', 'ORG'), ('a week', 'DATE')]\n",
            "Sentiment: Negative\n",
            "----------------------------------------\n"
          ]
        }
      ],
      "source": [
        "# spaCy NER + Sentiment Analysis\n",
        "import spacy\n",
        "from textblob import TextBlob\n",
        "\n",
        "# Load spaCy model\n",
        "nlp = spacy.load(\"en_core_web_sm\")\n",
        "\n",
        "# Example reviews\n",
        "reviews = [\n",
        "    \"I love my new Apple iPhone, the camera is amazing!\",\n",
        "    \"The Samsung TV stopped working after a week. Terrible quality.\"\n",
        "]\n",
        "\n",
        "for review in reviews:\n",
        "    doc = nlp(review)\n",
        "    entities = [(ent.text, ent.label_) for ent in doc.ents]\n",
        "    sentiment = \"Positive\" if TextBlob(review).sentiment.polarity > 0 else \"Negative\"\n",
        "\n",
        "    print(f\"Review: {review}\")\n",
        "    print(\"Entities:\", entities)\n",
        "    print(\"Sentiment:\", sentiment)\n",
        "    print(\"-\"*40)"
      ]
    }
  ]
}
